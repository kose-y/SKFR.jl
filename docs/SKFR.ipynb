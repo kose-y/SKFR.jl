{
 "cells": [
  {
   "cell_type": "markdown",
   "id": "6da52932",
   "metadata": {},
   "source": [
    "# SparseKmeansFeatureRanking.jl\n",
    "\n",
    "Sparse K-means via Feature Ranking\n",
    "\n",
    "This software package contains an efficient multi-threaded implementation of sparse K-means via feature ranking proposed by [Zhang, Lange, and Xu (2020)](https://proceedings.neurips.cc//paper/2020/file/735ddec196a9ca5745c05bec0eaa4bf9-Paper.pdf). The code is based on the [original github repository](https://github.com/ZhiyueZ/SKFR). The authors of the original code have kindly agreed to redistribute the derivative of their code on this repository under the MIT License. \n",
    "\n",
    "## Installation\n",
    "\n",
    "This package requires Julia v1.6 or later, which can be obtained from\n",
    "<https://julialang.org/downloads/> or by building Julia from the sources in the\n",
    "<https://github.com/JuliaLang/julia> repository.\n",
    "\n",
    "The package can be installed by running the following code:\n",
    "```julia\n",
    "using Pkg\n",
    "pkg\"add https://github.com/kose-y/SparseKmeansFeatureRanking.jl\"\n",
    "```\n",
    "For running the examples below, the following are also necessary. \n",
    "```julia\n",
    "pkg\"add Random Clustering SnpArrays\"\n",
    "```"
   ]
  },
  {
   "cell_type": "code",
   "execution_count": 1,
   "id": "373120c6",
   "metadata": {},
   "outputs": [
    {
     "name": "stdout",
     "output_type": "stream",
     "text": [
      "Julia Version 1.7.1\n",
      "Commit ac5cc99908 (2021-12-22 19:35 UTC)\n",
      "Platform Info:\n",
      "  OS: macOS (x86_64-apple-darwin19.5.0)\n",
      "  CPU: Intel(R) Core(TM) i7-7820HQ CPU @ 2.90GHz\n",
      "  WORD_SIZE: 64\n",
      "  LIBM: libopenlibm\n",
      "  LLVM: libLLVM-12.0.1 (ORCJIT, skylake)\n"
     ]
    }
   ],
   "source": [
    "versioninfo()"
   ]
  },
  {
   "cell_type": "markdown",
   "id": "b73b43b9",
   "metadata": {},
   "source": [
    "## Basic Usage"
   ]
  },
  {
   "cell_type": "markdown",
   "id": "b5143eb6",
   "metadata": {},
   "source": [
    "First, let us initialize the random number generator for reproducibility. We use `MersenneTwister` to obtain the same result with different number of threads.\n",
    "\n",
    "!!! Since Julia 1.7, the default random number generator depends on thread launches."
   ]
  },
  {
   "cell_type": "code",
   "execution_count": 2,
   "id": "d5f78abf",
   "metadata": {},
   "outputs": [
    {
     "data": {
      "text/plain": [
       "MersenneTwister(7542)"
      ]
     },
     "execution_count": 2,
     "metadata": {},
     "output_type": "execute_result"
    }
   ],
   "source": [
    "using Random, SparseKmeansFeatureRanking\n",
    "rng = MersenneTwister(7542)"
   ]
  },
  {
   "cell_type": "markdown",
   "id": "27295749",
   "metadata": {},
   "source": [
    "Then, we generate a random data with 300 samples and 100 features. For the first 33 features, we add `1.0` to samples `101:200` and `2.0` to samples `201:300` to give a cluster structure. "
   ]
  },
  {
   "cell_type": "code",
   "execution_count": 3,
   "id": "c690ff40",
   "metadata": {},
   "outputs": [],
   "source": [
    "(features, cases) = (100, 300);\n",
    "(classes, sparsity)  = (3, 33);\n",
    "X = randn(features, cases);\n",
    "(m, n) = (div(features, 3), 2 * div(features, 3));\n",
    "(r, s) = (div(cases, 3) + 1, 2 * div(cases, 3));\n",
    "X[1:m, r:s] = X[1:m, r:s] .+ 1.0;\n",
    "X[1:m, s + 1:end] = X[1:m, s + 1:end] .+ 2.0;"
   ]
  },
  {
   "cell_type": "markdown",
   "id": "64ec94dd",
   "metadata": {},
   "source": [
    "`ImputedMatrix` is the basic data structure for the SKFR algorithm with k-POD imputation. This can be generated using the function `get_imputed_matrix()`. The second argument `3` is the number of clusters, and the optional keyword argument `rng` determines the status of the random number generator to be used. "
   ]
  },
  {
   "cell_type": "code",
   "execution_count": 4,
   "id": "cfeb5ad6",
   "metadata": {},
   "outputs": [],
   "source": [
    "IM = SparseKmeansFeatureRanking.get_imputed_matrix(collect(transpose(X)), 3; rng=rng);"
   ]
  },
  {
   "cell_type": "markdown",
   "id": "d6032354",
   "metadata": {},
   "source": [
    "The function `sparsekmeans1()` selects `sparsity` most informative features globally. "
   ]
  },
  {
   "cell_type": "code",
   "execution_count": 5,
   "id": "5a0157b0",
   "metadata": {},
   "outputs": [
    {
     "name": "stdout",
     "output_type": "stream",
     "text": [
      "cnt of sparse1:5\n"
     ]
    }
   ],
   "source": [
    "(classout1, center1, selectedvec1, WSSval1, TSSval1) = SparseKmeansFeatureRanking.sparsekmeans1(IM, sparsity);"
   ]
  },
  {
   "cell_type": "markdown",
   "id": "c42b74c6",
   "metadata": {},
   "source": [
    "`classout1` is the class labels, `center1` contains cluster centers, `selectedvec1` contains selected informative features. `WSSval1` shows within-cluster sum of squares value, and `TSSval1` contains total sum of squares. "
   ]
  },
  {
   "cell_type": "code",
   "execution_count": 6,
   "id": "cdb82023",
   "metadata": {},
   "outputs": [
    {
     "data": {
      "text/plain": [
       "0.9702555619013858"
      ]
     },
     "execution_count": 6,
     "metadata": {},
     "output_type": "execute_result"
    }
   ],
   "source": [
    "using Clustering\n",
    "randindex(classout1,[repeat([1], 100); repeat([2], 100); repeat([3], 100)])[1]"
   ]
  },
  {
   "cell_type": "markdown",
   "id": "160cbda8",
   "metadata": {},
   "source": [
    "Checking the rand index gives the value `1.0`, meaning perfect clustering. As expected, "
   ]
  },
  {
   "cell_type": "code",
   "execution_count": 7,
   "id": "e0b2abaf",
   "metadata": {},
   "outputs": [
    {
     "data": {
      "text/plain": [
       "true"
      ]
     },
     "execution_count": 7,
     "metadata": {},
     "output_type": "execute_result"
    }
   ],
   "source": [
    "all(sort(selectedvec1).== 1:33)"
   ]
  },
  {
   "cell_type": "markdown",
   "id": "eaa25ddf",
   "metadata": {},
   "source": [
    "Also, the first 33 features are selected, as expected. "
   ]
  },
  {
   "cell_type": "markdown",
   "id": "ae3d5b94",
   "metadata": {},
   "source": [
    "The function `sparsekmeans2()` selects `sparsity` most informative feature for *each cluster*. "
   ]
  },
  {
   "cell_type": "code",
   "execution_count": 8,
   "id": "1b456b96",
   "metadata": {},
   "outputs": [],
   "source": [
    "IM = SparseKmeansFeatureRanking.get_imputed_matrix(collect(transpose(X)), 3; rng=rng)\n",
    "(classout2, center2, selectedvec2, WSSval2, TSSval2) = SparseKmeansFeatureRanking.sparsekmeans2(IM, sparsity);"
   ]
  },
  {
   "cell_type": "code",
   "execution_count": 9,
   "id": "c797eb47",
   "metadata": {},
   "outputs": [
    {
     "data": {
      "text/plain": [
       "0.4173168023219322"
      ]
     },
     "execution_count": 9,
     "metadata": {},
     "output_type": "execute_result"
    }
   ],
   "source": [
    "randindex(classout2,[repeat([1], 100); repeat([2], 100); repeat([3], 100)])[1]"
   ]
  },
  {
   "cell_type": "markdown",
   "id": "311bc100",
   "metadata": {},
   "source": [
    "Selected feature does not necessarily match 1:33 for all the clusters, as seen below. "
   ]
  },
  {
   "cell_type": "code",
   "execution_count": 10,
   "id": "50b4cf8e",
   "metadata": {},
   "outputs": [
    {
     "data": {
      "text/plain": [
       "3×33 Matrix{Int64}:\n",
       "  6   1  31  25   2  33  19  16  20  …  26  17  15  24  18  14  21   7  13\n",
       " 16  31   9   5   4  22  27   2   6     12  14  18  24  28  30  32  26   7\n",
       "  7  30  26  28  32  19  20   6  12     17  22  31   4  27  21   5   9  98"
      ]
     },
     "execution_count": 10,
     "metadata": {},
     "output_type": "execute_result"
    }
   ],
   "source": [
    "selectedvec2"
   ]
  },
  {
   "cell_type": "markdown",
   "id": "4477ac3f",
   "metadata": {},
   "source": [
    "## Matrices with missing entries"
   ]
  },
  {
   "cell_type": "markdown",
   "id": "0f05bbd6",
   "metadata": {},
   "source": [
    "We can apply the SKFR algorithm on the dataset with missing values, denoted by `NaN`s. Below, we put 10% of the values in the data matrix as `NaN`. "
   ]
  },
  {
   "cell_type": "code",
   "execution_count": 11,
   "id": "0b526fb4",
   "metadata": {},
   "outputs": [],
   "source": [
    "using StatsBase\n",
    "missingix=sample(1:features*cases,Int(features*cases*0.1),replace=false)\n",
    "X_missing = deepcopy(X)\n",
    "X_missing[CartesianIndices(X_missing)[missingix]] .= NaN;"
   ]
  },
  {
   "cell_type": "markdown",
   "id": "96e6de2f",
   "metadata": {},
   "source": [
    "Then, we run the SKFR functions just as above. For each iteration, missing values are imputed by the center of current cluster centers, as suggested by the k-POD imputation method. "
   ]
  },
  {
   "cell_type": "code",
   "execution_count": 12,
   "id": "71daf7a0",
   "metadata": {},
   "outputs": [],
   "source": [
    "IM = SparseKmeansFeatureRanking.get_imputed_matrix(collect(transpose(X_missing)), 3; rng=rng);"
   ]
  },
  {
   "cell_type": "code",
   "execution_count": 13,
   "id": "082ab944",
   "metadata": {},
   "outputs": [
    {
     "name": "stdout",
     "output_type": "stream",
     "text": [
      "cnt of sparse1:5\n"
     ]
    }
   ],
   "source": [
    "(classout1, center1, selectedvec1, WSSval1, TSSval1) = SparseKmeansFeatureRanking.sparsekmeans1(IM, sparsity);"
   ]
  },
  {
   "cell_type": "markdown",
   "id": "4b4b1f14",
   "metadata": {},
   "source": [
    "If we check the rand index, we see that the clustering result is a little bit noisy, as one may expect."
   ]
  },
  {
   "cell_type": "code",
   "execution_count": 14,
   "id": "f43c88c0",
   "metadata": {},
   "outputs": [
    {
     "data": {
      "text/plain": [
       "0.9800166697502282"
      ]
     },
     "execution_count": 14,
     "metadata": {},
     "output_type": "execute_result"
    }
   ],
   "source": [
    "randindex(classout1,[repeat([1], 100); repeat([2], 100); repeat([3], 100)])[1]"
   ]
  },
  {
   "cell_type": "markdown",
   "id": "60040f86",
   "metadata": {},
   "source": [
    "The set of selected features is still the same as before. "
   ]
  },
  {
   "cell_type": "code",
   "execution_count": 15,
   "id": "2fdf859c",
   "metadata": {},
   "outputs": [
    {
     "data": {
      "text/plain": [
       "33"
      ]
     },
     "execution_count": 15,
     "metadata": {},
     "output_type": "execute_result"
    }
   ],
   "source": [
    "length(union(selectedvec1, 1:33))"
   ]
  },
  {
   "cell_type": "markdown",
   "id": "020b92bc",
   "metadata": {},
   "source": [
    "## `SnpArray` Usage"
   ]
  },
  {
   "cell_type": "markdown",
   "id": "eaeedcdb",
   "metadata": {},
   "source": [
    "The SKFR algorithm can also be applied to the PLINK 1 BED-formatted data through `SnpArrays.jl`. This can be considered a case of unsupervised ancestry informative marker (AIM) selection. "
   ]
  },
  {
   "cell_type": "code",
   "execution_count": 16,
   "id": "aefa6a0e",
   "metadata": {},
   "outputs": [],
   "source": [
    "using SnpArrays\n",
    "X = SnpArray(SnpArrays.datadir(\"EUR_subset.bed\"))\n",
    "nclusters = 3;"
   ]
  },
  {
   "cell_type": "code",
   "execution_count": 17,
   "id": "cef95f49",
   "metadata": {},
   "outputs": [
    {
     "name": "stdout",
     "output_type": "stream",
     "text": [
      "cnt of sparse1:4\n"
     ]
    }
   ],
   "source": [
    "IM = SparseKmeansFeatureRanking.get_imputed_matrix(X, nclusters; rng=rng)\n",
    "(classout, center, selectedvec, WSSval, TSSval) = SparseKmeansFeatureRanking.sparsekmeans1(IM, 1000);"
   ]
  }
 ],
 "metadata": {
  "kernelspec": {
   "display_name": "Julia 1.7.1",
   "language": "julia",
   "name": "julia-1.7"
  },
  "language_info": {
   "file_extension": ".jl",
   "mimetype": "application/julia",
   "name": "julia",
   "version": "1.7.1"
  }
 },
 "nbformat": 4,
 "nbformat_minor": 5
}
